{
 "cells": [
  {
   "cell_type": "code",
   "execution_count": 1,
   "id": "final-parliament",
   "metadata": {
    "execution": {
     "iopub.execute_input": "2021-07-04T19:23:53.521199Z",
     "iopub.status.busy": "2021-07-04T19:23:53.519366Z",
     "iopub.status.idle": "2021-07-04T19:23:54.488488Z",
     "shell.execute_reply": "2021-07-04T19:23:54.489104Z",
     "shell.execute_reply.started": "2021-07-04T19:23:14.594520Z"
    },
    "papermill": {
     "duration": 0.99803,
     "end_time": "2021-07-04T19:23:54.489468",
     "exception": false,
     "start_time": "2021-07-04T19:23:53.491438",
     "status": "completed"
    },
    "tags": []
   },
   "outputs": [],
   "source": [
    "import pandas as pd\n",
    "import seaborn as sns\n",
    "import matplotlib.pyplot as plt\n",
    "import sklearn\n",
    "import math\n",
    "%matplotlib inline"
   ]
  },
  {
   "cell_type": "code",
   "execution_count": 2,
   "id": "minor-north",
   "metadata": {
    "execution": {
     "iopub.execute_input": "2021-07-04T19:23:54.526460Z",
     "iopub.status.busy": "2021-07-04T19:23:54.525767Z",
     "iopub.status.idle": "2021-07-04T19:23:54.570698Z",
     "shell.execute_reply": "2021-07-04T19:23:54.571357Z",
     "shell.execute_reply.started": "2021-07-04T19:23:14.605849Z"
    },
    "papermill": {
     "duration": 0.06492,
     "end_time": "2021-07-04T19:23:54.571537",
     "exception": false,
     "start_time": "2021-07-04T19:23:54.506617",
     "status": "completed"
    },
    "scrolled": true,
    "tags": []
   },
   "outputs": [
    {
     "data": {
      "text/html": [
       "<div>\n",
       "<style scoped>\n",
       "    .dataframe tbody tr th:only-of-type {\n",
       "        vertical-align: middle;\n",
       "    }\n",
       "\n",
       "    .dataframe tbody tr th {\n",
       "        vertical-align: top;\n",
       "    }\n",
       "\n",
       "    .dataframe thead th {\n",
       "        text-align: right;\n",
       "    }\n",
       "</style>\n",
       "<table border=\"1\" class=\"dataframe\">\n",
       "  <thead>\n",
       "    <tr style=\"text-align: right;\">\n",
       "      <th></th>\n",
       "      <th>Survived</th>\n",
       "      <th>Pclass</th>\n",
       "      <th>Name</th>\n",
       "      <th>Sex</th>\n",
       "      <th>Age</th>\n",
       "      <th>SibSp</th>\n",
       "      <th>Parch</th>\n",
       "      <th>Ticket</th>\n",
       "      <th>Fare</th>\n",
       "      <th>Cabin</th>\n",
       "      <th>Embarked</th>\n",
       "    </tr>\n",
       "    <tr>\n",
       "      <th>PassengerId</th>\n",
       "      <th></th>\n",
       "      <th></th>\n",
       "      <th></th>\n",
       "      <th></th>\n",
       "      <th></th>\n",
       "      <th></th>\n",
       "      <th></th>\n",
       "      <th></th>\n",
       "      <th></th>\n",
       "      <th></th>\n",
       "      <th></th>\n",
       "    </tr>\n",
       "  </thead>\n",
       "  <tbody>\n",
       "    <tr>\n",
       "      <th>1</th>\n",
       "      <td>0</td>\n",
       "      <td>3</td>\n",
       "      <td>Braund, Mr. Owen Harris</td>\n",
       "      <td>male</td>\n",
       "      <td>22.0</td>\n",
       "      <td>1</td>\n",
       "      <td>0</td>\n",
       "      <td>A/5 21171</td>\n",
       "      <td>7.2500</td>\n",
       "      <td>NaN</td>\n",
       "      <td>S</td>\n",
       "    </tr>\n",
       "    <tr>\n",
       "      <th>2</th>\n",
       "      <td>1</td>\n",
       "      <td>1</td>\n",
       "      <td>Cumings, Mrs. John Bradley (Florence Briggs Th...</td>\n",
       "      <td>female</td>\n",
       "      <td>38.0</td>\n",
       "      <td>1</td>\n",
       "      <td>0</td>\n",
       "      <td>PC 17599</td>\n",
       "      <td>71.2833</td>\n",
       "      <td>C85</td>\n",
       "      <td>C</td>\n",
       "    </tr>\n",
       "    <tr>\n",
       "      <th>3</th>\n",
       "      <td>1</td>\n",
       "      <td>3</td>\n",
       "      <td>Heikkinen, Miss. Laina</td>\n",
       "      <td>female</td>\n",
       "      <td>26.0</td>\n",
       "      <td>0</td>\n",
       "      <td>0</td>\n",
       "      <td>STON/O2. 3101282</td>\n",
       "      <td>7.9250</td>\n",
       "      <td>NaN</td>\n",
       "      <td>S</td>\n",
       "    </tr>\n",
       "    <tr>\n",
       "      <th>4</th>\n",
       "      <td>1</td>\n",
       "      <td>1</td>\n",
       "      <td>Futrelle, Mrs. Jacques Heath (Lily May Peel)</td>\n",
       "      <td>female</td>\n",
       "      <td>35.0</td>\n",
       "      <td>1</td>\n",
       "      <td>0</td>\n",
       "      <td>113803</td>\n",
       "      <td>53.1000</td>\n",
       "      <td>C123</td>\n",
       "      <td>S</td>\n",
       "    </tr>\n",
       "    <tr>\n",
       "      <th>5</th>\n",
       "      <td>0</td>\n",
       "      <td>3</td>\n",
       "      <td>Allen, Mr. William Henry</td>\n",
       "      <td>male</td>\n",
       "      <td>35.0</td>\n",
       "      <td>0</td>\n",
       "      <td>0</td>\n",
       "      <td>373450</td>\n",
       "      <td>8.0500</td>\n",
       "      <td>NaN</td>\n",
       "      <td>S</td>\n",
       "    </tr>\n",
       "  </tbody>\n",
       "</table>\n",
       "</div>"
      ],
      "text/plain": [
       "             Survived  Pclass  \\\n",
       "PassengerId                     \n",
       "1                   0       3   \n",
       "2                   1       1   \n",
       "3                   1       3   \n",
       "4                   1       1   \n",
       "5                   0       3   \n",
       "\n",
       "                                                          Name     Sex   Age  \\\n",
       "PassengerId                                                                    \n",
       "1                                      Braund, Mr. Owen Harris    male  22.0   \n",
       "2            Cumings, Mrs. John Bradley (Florence Briggs Th...  female  38.0   \n",
       "3                                       Heikkinen, Miss. Laina  female  26.0   \n",
       "4                 Futrelle, Mrs. Jacques Heath (Lily May Peel)  female  35.0   \n",
       "5                                     Allen, Mr. William Henry    male  35.0   \n",
       "\n",
       "             SibSp  Parch            Ticket     Fare Cabin Embarked  \n",
       "PassengerId                                                          \n",
       "1                1      0         A/5 21171   7.2500   NaN        S  \n",
       "2                1      0          PC 17599  71.2833   C85        C  \n",
       "3                0      0  STON/O2. 3101282   7.9250   NaN        S  \n",
       "4                1      0            113803  53.1000  C123        S  \n",
       "5                0      0            373450   8.0500   NaN        S  "
      ]
     },
     "execution_count": 2,
     "metadata": {},
     "output_type": "execute_result"
    }
   ],
   "source": [
    "train_data= pd.read_csv('/kaggle/input/titanic/train.csv',index_col='PassengerId')\n",
    "train_data.head()\n"
   ]
  },
  {
   "cell_type": "code",
   "execution_count": 3,
   "id": "alleged-arbitration",
   "metadata": {
    "execution": {
     "iopub.execute_input": "2021-07-04T19:23:54.610883Z",
     "iopub.status.busy": "2021-07-04T19:23:54.610221Z",
     "iopub.status.idle": "2021-07-04T19:23:54.637592Z",
     "shell.execute_reply": "2021-07-04T19:23:54.638186Z",
     "shell.execute_reply.started": "2021-07-04T19:23:14.653563Z"
    },
    "papermill": {
     "duration": 0.048874,
     "end_time": "2021-07-04T19:23:54.638364",
     "exception": false,
     "start_time": "2021-07-04T19:23:54.589490",
     "status": "completed"
    },
    "tags": []
   },
   "outputs": [
    {
     "data": {
      "text/html": [
       "<div>\n",
       "<style scoped>\n",
       "    .dataframe tbody tr th:only-of-type {\n",
       "        vertical-align: middle;\n",
       "    }\n",
       "\n",
       "    .dataframe tbody tr th {\n",
       "        vertical-align: top;\n",
       "    }\n",
       "\n",
       "    .dataframe thead th {\n",
       "        text-align: right;\n",
       "    }\n",
       "</style>\n",
       "<table border=\"1\" class=\"dataframe\">\n",
       "  <thead>\n",
       "    <tr style=\"text-align: right;\">\n",
       "      <th></th>\n",
       "      <th>Pclass</th>\n",
       "      <th>Name</th>\n",
       "      <th>Sex</th>\n",
       "      <th>Age</th>\n",
       "      <th>SibSp</th>\n",
       "      <th>Parch</th>\n",
       "      <th>Ticket</th>\n",
       "      <th>Fare</th>\n",
       "      <th>Cabin</th>\n",
       "      <th>Embarked</th>\n",
       "    </tr>\n",
       "    <tr>\n",
       "      <th>PassengerId</th>\n",
       "      <th></th>\n",
       "      <th></th>\n",
       "      <th></th>\n",
       "      <th></th>\n",
       "      <th></th>\n",
       "      <th></th>\n",
       "      <th></th>\n",
       "      <th></th>\n",
       "      <th></th>\n",
       "      <th></th>\n",
       "    </tr>\n",
       "  </thead>\n",
       "  <tbody>\n",
       "    <tr>\n",
       "      <th>892</th>\n",
       "      <td>3</td>\n",
       "      <td>Kelly, Mr. James</td>\n",
       "      <td>male</td>\n",
       "      <td>34.5</td>\n",
       "      <td>0</td>\n",
       "      <td>0</td>\n",
       "      <td>330911</td>\n",
       "      <td>7.8292</td>\n",
       "      <td>NaN</td>\n",
       "      <td>Q</td>\n",
       "    </tr>\n",
       "    <tr>\n",
       "      <th>893</th>\n",
       "      <td>3</td>\n",
       "      <td>Wilkes, Mrs. James (Ellen Needs)</td>\n",
       "      <td>female</td>\n",
       "      <td>47.0</td>\n",
       "      <td>1</td>\n",
       "      <td>0</td>\n",
       "      <td>363272</td>\n",
       "      <td>7.0000</td>\n",
       "      <td>NaN</td>\n",
       "      <td>S</td>\n",
       "    </tr>\n",
       "    <tr>\n",
       "      <th>894</th>\n",
       "      <td>2</td>\n",
       "      <td>Myles, Mr. Thomas Francis</td>\n",
       "      <td>male</td>\n",
       "      <td>62.0</td>\n",
       "      <td>0</td>\n",
       "      <td>0</td>\n",
       "      <td>240276</td>\n",
       "      <td>9.6875</td>\n",
       "      <td>NaN</td>\n",
       "      <td>Q</td>\n",
       "    </tr>\n",
       "    <tr>\n",
       "      <th>895</th>\n",
       "      <td>3</td>\n",
       "      <td>Wirz, Mr. Albert</td>\n",
       "      <td>male</td>\n",
       "      <td>27.0</td>\n",
       "      <td>0</td>\n",
       "      <td>0</td>\n",
       "      <td>315154</td>\n",
       "      <td>8.6625</td>\n",
       "      <td>NaN</td>\n",
       "      <td>S</td>\n",
       "    </tr>\n",
       "    <tr>\n",
       "      <th>896</th>\n",
       "      <td>3</td>\n",
       "      <td>Hirvonen, Mrs. Alexander (Helga E Lindqvist)</td>\n",
       "      <td>female</td>\n",
       "      <td>22.0</td>\n",
       "      <td>1</td>\n",
       "      <td>1</td>\n",
       "      <td>3101298</td>\n",
       "      <td>12.2875</td>\n",
       "      <td>NaN</td>\n",
       "      <td>S</td>\n",
       "    </tr>\n",
       "  </tbody>\n",
       "</table>\n",
       "</div>"
      ],
      "text/plain": [
       "             Pclass                                          Name     Sex  \\\n",
       "PassengerId                                                                 \n",
       "892               3                              Kelly, Mr. James    male   \n",
       "893               3              Wilkes, Mrs. James (Ellen Needs)  female   \n",
       "894               2                     Myles, Mr. Thomas Francis    male   \n",
       "895               3                              Wirz, Mr. Albert    male   \n",
       "896               3  Hirvonen, Mrs. Alexander (Helga E Lindqvist)  female   \n",
       "\n",
       "              Age  SibSp  Parch   Ticket     Fare Cabin Embarked  \n",
       "PassengerId                                                       \n",
       "892          34.5      0      0   330911   7.8292   NaN        Q  \n",
       "893          47.0      1      0   363272   7.0000   NaN        S  \n",
       "894          62.0      0      0   240276   9.6875   NaN        Q  \n",
       "895          27.0      0      0   315154   8.6625   NaN        S  \n",
       "896          22.0      1      1  3101298  12.2875   NaN        S  "
      ]
     },
     "execution_count": 3,
     "metadata": {},
     "output_type": "execute_result"
    }
   ],
   "source": [
    "test=pd.read_csv('/kaggle/input/titanic/test.csv',index_col='PassengerId')\n",
    "#submit=pd.DataFrame(test.index)\n",
    "test.head()"
   ]
  },
  {
   "cell_type": "code",
   "execution_count": 4,
   "id": "hourly-crime",
   "metadata": {
    "execution": {
     "iopub.execute_input": "2021-07-04T19:23:54.687498Z",
     "iopub.status.busy": "2021-07-04T19:23:54.686814Z",
     "iopub.status.idle": "2021-07-04T19:23:54.706480Z",
     "shell.execute_reply": "2021-07-04T19:23:54.706981Z",
     "shell.execute_reply.started": "2021-07-04T19:23:14.681631Z"
    },
    "papermill": {
     "duration": 0.05055,
     "end_time": "2021-07-04T19:23:54.707161",
     "exception": false,
     "start_time": "2021-07-04T19:23:54.656611",
     "status": "completed"
    },
    "tags": []
   },
   "outputs": [
    {
     "data": {
      "text/html": [
       "<div>\n",
       "<style scoped>\n",
       "    .dataframe tbody tr th:only-of-type {\n",
       "        vertical-align: middle;\n",
       "    }\n",
       "\n",
       "    .dataframe tbody tr th {\n",
       "        vertical-align: top;\n",
       "    }\n",
       "\n",
       "    .dataframe thead th {\n",
       "        text-align: right;\n",
       "    }\n",
       "</style>\n",
       "<table border=\"1\" class=\"dataframe\">\n",
       "  <thead>\n",
       "    <tr style=\"text-align: right;\">\n",
       "      <th></th>\n",
       "      <th>Survived</th>\n",
       "      <th>Sex</th>\n",
       "      <th>Age</th>\n",
       "      <th>SibSp</th>\n",
       "      <th>Parch</th>\n",
       "      <th>Fare</th>\n",
       "      <th>Embarked_Q</th>\n",
       "      <th>Embarked_S</th>\n",
       "      <th>Pclass_2</th>\n",
       "      <th>Pclass_3</th>\n",
       "    </tr>\n",
       "    <tr>\n",
       "      <th>PassengerId</th>\n",
       "      <th></th>\n",
       "      <th></th>\n",
       "      <th></th>\n",
       "      <th></th>\n",
       "      <th></th>\n",
       "      <th></th>\n",
       "      <th></th>\n",
       "      <th></th>\n",
       "      <th></th>\n",
       "      <th></th>\n",
       "    </tr>\n",
       "  </thead>\n",
       "  <tbody>\n",
       "    <tr>\n",
       "      <th>1</th>\n",
       "      <td>0</td>\n",
       "      <td>0</td>\n",
       "      <td>22.0</td>\n",
       "      <td>1</td>\n",
       "      <td>0</td>\n",
       "      <td>7.2500</td>\n",
       "      <td>0</td>\n",
       "      <td>1</td>\n",
       "      <td>0</td>\n",
       "      <td>1</td>\n",
       "    </tr>\n",
       "    <tr>\n",
       "      <th>2</th>\n",
       "      <td>1</td>\n",
       "      <td>1</td>\n",
       "      <td>38.0</td>\n",
       "      <td>1</td>\n",
       "      <td>0</td>\n",
       "      <td>71.2833</td>\n",
       "      <td>0</td>\n",
       "      <td>0</td>\n",
       "      <td>0</td>\n",
       "      <td>0</td>\n",
       "    </tr>\n",
       "    <tr>\n",
       "      <th>3</th>\n",
       "      <td>1</td>\n",
       "      <td>1</td>\n",
       "      <td>26.0</td>\n",
       "      <td>0</td>\n",
       "      <td>0</td>\n",
       "      <td>7.9250</td>\n",
       "      <td>0</td>\n",
       "      <td>1</td>\n",
       "      <td>0</td>\n",
       "      <td>1</td>\n",
       "    </tr>\n",
       "    <tr>\n",
       "      <th>4</th>\n",
       "      <td>1</td>\n",
       "      <td>1</td>\n",
       "      <td>35.0</td>\n",
       "      <td>1</td>\n",
       "      <td>0</td>\n",
       "      <td>53.1000</td>\n",
       "      <td>0</td>\n",
       "      <td>1</td>\n",
       "      <td>0</td>\n",
       "      <td>0</td>\n",
       "    </tr>\n",
       "    <tr>\n",
       "      <th>5</th>\n",
       "      <td>0</td>\n",
       "      <td>0</td>\n",
       "      <td>35.0</td>\n",
       "      <td>0</td>\n",
       "      <td>0</td>\n",
       "      <td>8.0500</td>\n",
       "      <td>0</td>\n",
       "      <td>1</td>\n",
       "      <td>0</td>\n",
       "      <td>1</td>\n",
       "    </tr>\n",
       "  </tbody>\n",
       "</table>\n",
       "</div>"
      ],
      "text/plain": [
       "             Survived  Sex   Age  SibSp  Parch     Fare  Embarked_Q  \\\n",
       "PassengerId                                                           \n",
       "1                   0    0  22.0      1      0   7.2500           0   \n",
       "2                   1    1  38.0      1      0  71.2833           0   \n",
       "3                   1    1  26.0      0      0   7.9250           0   \n",
       "4                   1    1  35.0      1      0  53.1000           0   \n",
       "5                   0    0  35.0      0      0   8.0500           0   \n",
       "\n",
       "             Embarked_S  Pclass_2  Pclass_3  \n",
       "PassengerId                                  \n",
       "1                     1         0         1  \n",
       "2                     0         0         0  \n",
       "3                     1         0         1  \n",
       "4                     1         0         0  \n",
       "5                     1         0         1  "
      ]
     },
     "execution_count": 4,
     "metadata": {},
     "output_type": "execute_result"
    }
   ],
   "source": [
    "train_data['Sex']=train_data['Sex'].replace({'female':1,'male':0})\n",
    "\n",
    "train_data=pd.get_dummies(train_data,columns=['Embarked','Pclass'],drop_first=True)\n",
    "train_data.drop(['Name','Ticket','Cabin'],axis=1,inplace=True)\n",
    "train_data.head()"
   ]
  },
  {
   "cell_type": "code",
   "execution_count": 5,
   "id": "according-startup",
   "metadata": {
    "execution": {
     "iopub.execute_input": "2021-07-04T19:23:54.759968Z",
     "iopub.status.busy": "2021-07-04T19:23:54.759238Z",
     "iopub.status.idle": "2021-07-04T19:23:54.772102Z",
     "shell.execute_reply": "2021-07-04T19:23:54.772761Z",
     "shell.execute_reply.started": "2021-07-04T19:23:14.715556Z"
    },
    "papermill": {
     "duration": 0.047135,
     "end_time": "2021-07-04T19:23:54.772959",
     "exception": false,
     "start_time": "2021-07-04T19:23:54.725824",
     "status": "completed"
    },
    "tags": []
   },
   "outputs": [
    {
     "data": {
      "text/html": [
       "<div>\n",
       "<style scoped>\n",
       "    .dataframe tbody tr th:only-of-type {\n",
       "        vertical-align: middle;\n",
       "    }\n",
       "\n",
       "    .dataframe tbody tr th {\n",
       "        vertical-align: top;\n",
       "    }\n",
       "\n",
       "    .dataframe thead th {\n",
       "        text-align: right;\n",
       "    }\n",
       "</style>\n",
       "<table border=\"1\" class=\"dataframe\">\n",
       "  <thead>\n",
       "    <tr style=\"text-align: right;\">\n",
       "      <th></th>\n",
       "      <th>Sex</th>\n",
       "      <th>Age</th>\n",
       "      <th>SibSp</th>\n",
       "      <th>Parch</th>\n",
       "      <th>Fare</th>\n",
       "      <th>Embarked_Q</th>\n",
       "      <th>Embarked_S</th>\n",
       "      <th>Pclass_2</th>\n",
       "      <th>Pclass_3</th>\n",
       "    </tr>\n",
       "    <tr>\n",
       "      <th>PassengerId</th>\n",
       "      <th></th>\n",
       "      <th></th>\n",
       "      <th></th>\n",
       "      <th></th>\n",
       "      <th></th>\n",
       "      <th></th>\n",
       "      <th></th>\n",
       "      <th></th>\n",
       "      <th></th>\n",
       "    </tr>\n",
       "  </thead>\n",
       "  <tbody>\n",
       "    <tr>\n",
       "      <th>892</th>\n",
       "      <td>0</td>\n",
       "      <td>34.5</td>\n",
       "      <td>0</td>\n",
       "      <td>0</td>\n",
       "      <td>7.8292</td>\n",
       "      <td>1</td>\n",
       "      <td>0</td>\n",
       "      <td>0</td>\n",
       "      <td>1</td>\n",
       "    </tr>\n",
       "    <tr>\n",
       "      <th>893</th>\n",
       "      <td>1</td>\n",
       "      <td>47.0</td>\n",
       "      <td>1</td>\n",
       "      <td>0</td>\n",
       "      <td>7.0000</td>\n",
       "      <td>0</td>\n",
       "      <td>1</td>\n",
       "      <td>0</td>\n",
       "      <td>1</td>\n",
       "    </tr>\n",
       "    <tr>\n",
       "      <th>894</th>\n",
       "      <td>0</td>\n",
       "      <td>62.0</td>\n",
       "      <td>0</td>\n",
       "      <td>0</td>\n",
       "      <td>9.6875</td>\n",
       "      <td>1</td>\n",
       "      <td>0</td>\n",
       "      <td>1</td>\n",
       "      <td>0</td>\n",
       "    </tr>\n",
       "    <tr>\n",
       "      <th>895</th>\n",
       "      <td>0</td>\n",
       "      <td>27.0</td>\n",
       "      <td>0</td>\n",
       "      <td>0</td>\n",
       "      <td>8.6625</td>\n",
       "      <td>0</td>\n",
       "      <td>1</td>\n",
       "      <td>0</td>\n",
       "      <td>1</td>\n",
       "    </tr>\n",
       "    <tr>\n",
       "      <th>896</th>\n",
       "      <td>1</td>\n",
       "      <td>22.0</td>\n",
       "      <td>1</td>\n",
       "      <td>1</td>\n",
       "      <td>12.2875</td>\n",
       "      <td>0</td>\n",
       "      <td>1</td>\n",
       "      <td>0</td>\n",
       "      <td>1</td>\n",
       "    </tr>\n",
       "  </tbody>\n",
       "</table>\n",
       "</div>"
      ],
      "text/plain": [
       "             Sex   Age  SibSp  Parch     Fare  Embarked_Q  Embarked_S  \\\n",
       "PassengerId                                                             \n",
       "892            0  34.5      0      0   7.8292           1           0   \n",
       "893            1  47.0      1      0   7.0000           0           1   \n",
       "894            0  62.0      0      0   9.6875           1           0   \n",
       "895            0  27.0      0      0   8.6625           0           1   \n",
       "896            1  22.0      1      1  12.2875           0           1   \n",
       "\n",
       "             Pclass_2  Pclass_3  \n",
       "PassengerId                      \n",
       "892                 0         1  \n",
       "893                 0         1  \n",
       "894                 1         0  \n",
       "895                 0         1  \n",
       "896                 0         1  "
      ]
     },
     "execution_count": 5,
     "metadata": {},
     "output_type": "execute_result"
    }
   ],
   "source": [
    "test['Sex']=test['Sex'].replace({'female':1,'male':0})\n",
    "\n",
    "\n",
    "test=pd.get_dummies(test,columns=['Embarked','Pclass'],drop_first=True)\n",
    "test.drop(['Name','Ticket','Cabin'],axis=1,inplace=True)\n",
    "test.head()"
   ]
  },
  {
   "cell_type": "code",
   "execution_count": 6,
   "id": "unknown-facial",
   "metadata": {
    "execution": {
     "iopub.execute_input": "2021-07-04T19:23:54.815260Z",
     "iopub.status.busy": "2021-07-04T19:23:54.814564Z",
     "iopub.status.idle": "2021-07-04T19:23:54.830413Z",
     "shell.execute_reply": "2021-07-04T19:23:54.830983Z",
     "shell.execute_reply.started": "2021-07-04T19:23:14.746617Z"
    },
    "papermill": {
     "duration": 0.039192,
     "end_time": "2021-07-04T19:23:54.831159",
     "exception": false,
     "start_time": "2021-07-04T19:23:54.791967",
     "status": "completed"
    },
    "tags": []
   },
   "outputs": [
    {
     "data": {
      "text/plain": [
       "Sex           0\n",
       "Age           0\n",
       "SibSp         0\n",
       "Parch         0\n",
       "Fare          0\n",
       "Embarked_Q    0\n",
       "Embarked_S    0\n",
       "Pclass_2      0\n",
       "Pclass_3      0\n",
       "dtype: int64"
      ]
     },
     "execution_count": 6,
     "metadata": {},
     "output_type": "execute_result"
    }
   ],
   "source": [
    "train_data.fillna(train_data.mean(),inplace=True)\n",
    "test.fillna(test.mean(),inplace=True)\n",
    "test.isna().sum()\n"
   ]
  },
  {
   "cell_type": "code",
   "execution_count": 7,
   "id": "biological-identification",
   "metadata": {
    "execution": {
     "iopub.execute_input": "2021-07-04T19:23:54.873375Z",
     "iopub.status.busy": "2021-07-04T19:23:54.872657Z",
     "iopub.status.idle": "2021-07-04T19:23:54.881455Z",
     "shell.execute_reply": "2021-07-04T19:23:54.880857Z",
     "shell.execute_reply.started": "2021-07-04T19:23:14.772149Z"
    },
    "papermill": {
     "duration": 0.030942,
     "end_time": "2021-07-04T19:23:54.881597",
     "exception": false,
     "start_time": "2021-07-04T19:23:54.850655",
     "status": "completed"
    },
    "tags": []
   },
   "outputs": [
    {
     "data": {
      "text/plain": [
       "Survived      0\n",
       "Sex           0\n",
       "Age           0\n",
       "SibSp         0\n",
       "Parch         0\n",
       "Fare          0\n",
       "Embarked_Q    0\n",
       "Embarked_S    0\n",
       "Pclass_2      0\n",
       "Pclass_3      0\n",
       "dtype: int64"
      ]
     },
     "execution_count": 7,
     "metadata": {},
     "output_type": "execute_result"
    }
   ],
   "source": [
    "train_data.isna().sum()"
   ]
  },
  {
   "cell_type": "markdown",
   "id": "developmental-excess",
   "metadata": {
    "papermill": {
     "duration": 0.021735,
     "end_time": "2021-07-04T19:23:54.923293",
     "exception": false,
     "start_time": "2021-07-04T19:23:54.901558",
     "status": "completed"
    },
    "tags": []
   },
   "source": [
    "# ANALYSING DATA"
   ]
  },
  {
   "cell_type": "code",
   "execution_count": 8,
   "id": "configured-difficulty",
   "metadata": {
    "execution": {
     "iopub.execute_input": "2021-07-04T19:23:54.968859Z",
     "iopub.status.busy": "2021-07-04T19:23:54.968156Z",
     "iopub.status.idle": "2021-07-04T19:23:55.692433Z",
     "shell.execute_reply": "2021-07-04T19:23:55.691843Z",
     "shell.execute_reply.started": "2021-07-04T19:23:14.783450Z"
    },
    "papermill": {
     "duration": 0.749264,
     "end_time": "2021-07-04T19:23:55.692582",
     "exception": false,
     "start_time": "2021-07-04T19:23:54.943318",
     "status": "completed"
    },
    "tags": []
   },
   "outputs": [
    {
     "data": {
      "text/plain": [
       "<AxesSubplot:>"
      ]
     },
     "execution_count": 8,
     "metadata": {},
     "output_type": "execute_result"
    },
    {
     "data": {
      "image/png": "[encoded data removed]",
      "text/plain": [
       "<Figure size 432x288 with 2 Axes>"
      ]
     },
     "metadata": {
      "needs_background": "light"
     },
     "output_type": "display_data"
    }
   ],
   "source": [
    "#Finding correlation among attributes using heatmap\n",
    "corr = train_data.corr()\n",
    "sns.heatmap(corr, xticklabels=corr.columns,yticklabels=corr.columns,annot=True)"
   ]
  },
  {
   "cell_type": "code",
   "execution_count": 9,
   "id": "alive-theory",
   "metadata": {
    "execution": {
     "iopub.execute_input": "2021-07-04T19:23:55.744525Z",
     "iopub.status.busy": "2021-07-04T19:23:55.742577Z",
     "iopub.status.idle": "2021-07-04T19:23:55.849120Z",
     "shell.execute_reply": "2021-07-04T19:23:55.849627Z",
     "shell.execute_reply.started": "2021-07-04T19:23:15.593468Z"
    },
    "papermill": {
     "duration": 0.134819,
     "end_time": "2021-07-04T19:23:55.849792",
     "exception": false,
     "start_time": "2021-07-04T19:23:55.714973",
     "status": "completed"
    },
    "tags": []
   },
   "outputs": [
    {
     "data": {
      "text/plain": [
       "<AxesSubplot:xlabel='Survived', ylabel='count'>"
      ]
     },
     "execution_count": 9,
     "metadata": {},
     "output_type": "execute_result"
    },
    {
     "data": {
      "image/png": "[encoded data removed]",
      "text/plain": [
       "<Figure size 432x288 with 1 Axes>"
      ]
     },
     "metadata": {
      "needs_background": "light"
     },
     "output_type": "display_data"
    }
   ],
   "source": [
    "sns.countplot(x='Survived',data=train_data)"
   ]
  },
  {
   "cell_type": "code",
   "execution_count": 10,
   "id": "suspended-alberta",
   "metadata": {
    "execution": {
     "iopub.execute_input": "2021-07-04T19:23:55.902091Z",
     "iopub.status.busy": "2021-07-04T19:23:55.901417Z",
     "iopub.status.idle": "2021-07-04T19:23:56.053676Z",
     "shell.execute_reply": "2021-07-04T19:23:56.053100Z",
     "shell.execute_reply.started": "2021-07-04T19:23:15.716016Z"
    },
    "papermill": {
     "duration": 0.181066,
     "end_time": "2021-07-04T19:23:56.053819",
     "exception": false,
     "start_time": "2021-07-04T19:23:55.872753",
     "status": "completed"
    },
    "tags": []
   },
   "outputs": [
    {
     "data": {
      "text/plain": [
       "<AxesSubplot:xlabel='Survived', ylabel='count'>"
      ]
     },
     "execution_count": 10,
     "metadata": {},
     "output_type": "execute_result"
    },
    {
     "data": {
      "image/png": "[encoded data removed]",
      "text/plain": [
       "<Figure size 432x288 with 1 Axes>"
      ]
     },
     "metadata": {
      "needs_background": "light"
     },
     "output_type": "display_data"
    }
   ],
   "source": [
    "sns.countplot(x=\"Survived\", hue=\"Sex\", data=train_data)"
   ]
  },
  {
   "cell_type": "code",
   "execution_count": 11,
   "id": "monthly-ceremony",
   "metadata": {
    "execution": {
     "iopub.execute_input": "2021-07-04T19:23:56.107727Z",
     "iopub.status.busy": "2021-07-04T19:23:56.107015Z",
     "iopub.status.idle": "2021-07-04T19:23:56.395656Z",
     "shell.execute_reply": "2021-07-04T19:23:56.394914Z",
     "shell.execute_reply.started": "2021-07-04T19:23:15.872317Z"
    },
    "papermill": {
     "duration": 0.317296,
     "end_time": "2021-07-04T19:23:56.395798",
     "exception": false,
     "start_time": "2021-07-04T19:23:56.078502",
     "status": "completed"
    },
    "tags": []
   },
   "outputs": [
    {
     "data": {
      "text/plain": [
       "<AxesSubplot:ylabel='Frequency'>"
      ]
     },
     "execution_count": 11,
     "metadata": {},
     "output_type": "execute_result"
    },
    {
     "data": {
      "image/png": "[encoded data removed]",
      "text/plain": [
       "<Figure size 432x288 with 1 Axes>"
      ]
     },
     "metadata": {
      "needs_background": "light"
     },
     "output_type": "display_data"
    }
   ],
   "source": [
    "train_data['Fare'].plot.hist()"
   ]
  },
  {
   "cell_type": "code",
   "execution_count": 12,
   "id": "modified-reservoir",
   "metadata": {
    "execution": {
     "iopub.execute_input": "2021-07-04T19:23:56.471328Z",
     "iopub.status.busy": "2021-07-04T19:23:56.470578Z",
     "iopub.status.idle": "2021-07-04T19:23:56.627318Z",
     "shell.execute_reply": "2021-07-04T19:23:56.626650Z",
     "shell.execute_reply.started": "2021-07-04T19:23:16.065024Z"
    },
    "papermill": {
     "duration": 0.206456,
     "end_time": "2021-07-04T19:23:56.627460",
     "exception": false,
     "start_time": "2021-07-04T19:23:56.421004",
     "status": "completed"
    },
    "tags": []
   },
   "outputs": [
    {
     "data": {
      "text/plain": [
       "<AxesSubplot:ylabel='Frequency'>"
      ]
     },
     "execution_count": 12,
     "metadata": {},
     "output_type": "execute_result"
    },
    {
     "data": {
      "image/png": "[encoded data removed]",
      "text/plain": [
       "<Figure size 432x288 with 1 Axes>"
      ]
     },
     "metadata": {
      "needs_background": "light"
     },
     "output_type": "display_data"
    }
   ],
   "source": [
    "train_data['Age'].plot.hist()"
   ]
  },
  {
   "cell_type": "code",
   "execution_count": 13,
   "id": "light-teacher",
   "metadata": {
    "execution": {
     "iopub.execute_input": "2021-07-04T19:23:56.690065Z",
     "iopub.status.busy": "2021-07-04T19:23:56.685680Z",
     "iopub.status.idle": "2021-07-04T19:23:56.701155Z",
     "shell.execute_reply": "2021-07-04T19:23:56.700483Z",
     "shell.execute_reply.started": "2021-07-04T19:23:16.267422Z"
    },
    "papermill": {
     "duration": 0.047178,
     "end_time": "2021-07-04T19:23:56.701297",
     "exception": false,
     "start_time": "2021-07-04T19:23:56.654119",
     "status": "completed"
    },
    "tags": []
   },
   "outputs": [
    {
     "name": "stdout",
     "output_type": "stream",
     "text": [
      "<class 'pandas.core.frame.DataFrame'>\n",
      "Int64Index: 891 entries, 1 to 891\n",
      "Data columns (total 10 columns):\n",
      " #   Column      Non-Null Count  Dtype  \n",
      "---  ------      --------------  -----  \n",
      " 0   Survived    891 non-null    int64  \n",
      " 1   Sex         891 non-null    int64  \n",
      " 2   Age         891 non-null    float64\n",
      " 3   SibSp       891 non-null    int64  \n",
      " 4   Parch       891 non-null    int64  \n",
      " 5   Fare        891 non-null    float64\n",
      " 6   Embarked_Q  891 non-null    uint8  \n",
      " 7   Embarked_S  891 non-null    uint8  \n",
      " 8   Pclass_2    891 non-null    uint8  \n",
      " 9   Pclass_3    891 non-null    uint8  \n",
      "dtypes: float64(2), int64(4), uint8(4)\n",
      "memory usage: 84.5 KB\n"
     ]
    }
   ],
   "source": [
    "train_data.info()"
   ]
  },
  {
   "cell_type": "code",
   "execution_count": 14,
   "id": "isolated-snake",
   "metadata": {
    "execution": {
     "iopub.execute_input": "2021-07-04T19:23:56.762042Z",
     "iopub.status.busy": "2021-07-04T19:23:56.759159Z",
     "iopub.status.idle": "2021-07-04T19:23:56.952547Z",
     "shell.execute_reply": "2021-07-04T19:23:56.951921Z",
     "shell.execute_reply.started": "2021-07-04T19:23:16.284790Z"
    },
    "papermill": {
     "duration": 0.22484,
     "end_time": "2021-07-04T19:23:56.952688",
     "exception": false,
     "start_time": "2021-07-04T19:23:56.727848",
     "status": "completed"
    },
    "tags": []
   },
   "outputs": [
    {
     "data": {
      "text/plain": [
       "<AxesSubplot:xlabel='SibSp', ylabel='count'>"
      ]
     },
     "execution_count": 14,
     "metadata": {},
     "output_type": "execute_result"
    },
    {
     "data": {
      "image/png": "[encoded data removed]",
      "text/plain": [
       "<Figure size 432x288 with 1 Axes>"
      ]
     },
     "metadata": {
      "needs_background": "light"
     },
     "output_type": "display_data"
    }
   ],
   "source": [
    "sns.countplot(x=\"SibSp\",hue=\"Sex\", data=train_data)"
   ]
  },
  {
   "cell_type": "code",
   "execution_count": 15,
   "id": "embedded-court",
   "metadata": {
    "execution": {
     "iopub.execute_input": "2021-07-04T19:23:57.014104Z",
     "iopub.status.busy": "2021-07-04T19:23:57.013349Z",
     "iopub.status.idle": "2021-07-04T19:23:57.032955Z",
     "shell.execute_reply": "2021-07-04T19:23:57.032403Z",
     "shell.execute_reply.started": "2021-07-04T19:23:16.505156Z"
    },
    "papermill": {
     "duration": 0.051791,
     "end_time": "2021-07-04T19:23:57.033106",
     "exception": false,
     "start_time": "2021-07-04T19:23:56.981315",
     "status": "completed"
    },
    "tags": []
   },
   "outputs": [
    {
     "data": {
      "text/html": [
       "<div>\n",
       "<style scoped>\n",
       "    .dataframe tbody tr th:only-of-type {\n",
       "        vertical-align: middle;\n",
       "    }\n",
       "\n",
       "    .dataframe tbody tr th {\n",
       "        vertical-align: top;\n",
       "    }\n",
       "\n",
       "    .dataframe thead th {\n",
       "        text-align: right;\n",
       "    }\n",
       "</style>\n",
       "<table border=\"1\" class=\"dataframe\">\n",
       "  <thead>\n",
       "    <tr style=\"text-align: right;\">\n",
       "      <th></th>\n",
       "      <th>PassengerId</th>\n",
       "      <th>Pclass</th>\n",
       "      <th>Name</th>\n",
       "      <th>Sex</th>\n",
       "      <th>Age</th>\n",
       "      <th>SibSp</th>\n",
       "      <th>Parch</th>\n",
       "      <th>Ticket</th>\n",
       "      <th>Fare</th>\n",
       "      <th>Cabin</th>\n",
       "      <th>Embarked</th>\n",
       "    </tr>\n",
       "  </thead>\n",
       "  <tbody>\n",
       "    <tr>\n",
       "      <th>0</th>\n",
       "      <td>892</td>\n",
       "      <td>3</td>\n",
       "      <td>Kelly, Mr. James</td>\n",
       "      <td>male</td>\n",
       "      <td>34.5</td>\n",
       "      <td>0</td>\n",
       "      <td>0</td>\n",
       "      <td>330911</td>\n",
       "      <td>7.8292</td>\n",
       "      <td>NaN</td>\n",
       "      <td>Q</td>\n",
       "    </tr>\n",
       "    <tr>\n",
       "      <th>1</th>\n",
       "      <td>893</td>\n",
       "      <td>3</td>\n",
       "      <td>Wilkes, Mrs. James (Ellen Needs)</td>\n",
       "      <td>female</td>\n",
       "      <td>47.0</td>\n",
       "      <td>1</td>\n",
       "      <td>0</td>\n",
       "      <td>363272</td>\n",
       "      <td>7.0000</td>\n",
       "      <td>NaN</td>\n",
       "      <td>S</td>\n",
       "    </tr>\n",
       "    <tr>\n",
       "      <th>2</th>\n",
       "      <td>894</td>\n",
       "      <td>2</td>\n",
       "      <td>Myles, Mr. Thomas Francis</td>\n",
       "      <td>male</td>\n",
       "      <td>62.0</td>\n",
       "      <td>0</td>\n",
       "      <td>0</td>\n",
       "      <td>240276</td>\n",
       "      <td>9.6875</td>\n",
       "      <td>NaN</td>\n",
       "      <td>Q</td>\n",
       "    </tr>\n",
       "    <tr>\n",
       "      <th>3</th>\n",
       "      <td>895</td>\n",
       "      <td>3</td>\n",
       "      <td>Wirz, Mr. Albert</td>\n",
       "      <td>male</td>\n",
       "      <td>27.0</td>\n",
       "      <td>0</td>\n",
       "      <td>0</td>\n",
       "      <td>315154</td>\n",
       "      <td>8.6625</td>\n",
       "      <td>NaN</td>\n",
       "      <td>S</td>\n",
       "    </tr>\n",
       "    <tr>\n",
       "      <th>4</th>\n",
       "      <td>896</td>\n",
       "      <td>3</td>\n",
       "      <td>Hirvonen, Mrs. Alexander (Helga E Lindqvist)</td>\n",
       "      <td>female</td>\n",
       "      <td>22.0</td>\n",
       "      <td>1</td>\n",
       "      <td>1</td>\n",
       "      <td>3101298</td>\n",
       "      <td>12.2875</td>\n",
       "      <td>NaN</td>\n",
       "      <td>S</td>\n",
       "    </tr>\n",
       "  </tbody>\n",
       "</table>\n",
       "</div>"
      ],
      "text/plain": [
       "   PassengerId  Pclass                                          Name     Sex  \\\n",
       "0          892       3                              Kelly, Mr. James    male   \n",
       "1          893       3              Wilkes, Mrs. James (Ellen Needs)  female   \n",
       "2          894       2                     Myles, Mr. Thomas Francis    male   \n",
       "3          895       3                              Wirz, Mr. Albert    male   \n",
       "4          896       3  Hirvonen, Mrs. Alexander (Helga E Lindqvist)  female   \n",
       "\n",
       "    Age  SibSp  Parch   Ticket     Fare Cabin Embarked  \n",
       "0  34.5      0      0   330911   7.8292   NaN        Q  \n",
       "1  47.0      1      0   363272   7.0000   NaN        S  \n",
       "2  62.0      0      0   240276   9.6875   NaN        Q  \n",
       "3  27.0      0      0   315154   8.6625   NaN        S  \n",
       "4  22.0      1      1  3101298  12.2875   NaN        S  "
      ]
     },
     "execution_count": 15,
     "metadata": {},
     "output_type": "execute_result"
    }
   ],
   "source": [
    "test_output=pd.read_csv('/kaggle/input/titanic/test.csv')\n",
    "test_output.head()"
   ]
  },
  {
   "cell_type": "code",
   "execution_count": 16,
   "id": "religious-leonard",
   "metadata": {
    "execution": {
     "iopub.execute_input": "2021-07-04T19:23:57.096986Z",
     "iopub.status.busy": "2021-07-04T19:23:57.096294Z",
     "iopub.status.idle": "2021-07-04T19:23:57.111120Z",
     "shell.execute_reply": "2021-07-04T19:23:57.110526Z",
     "shell.execute_reply.started": "2021-07-04T19:23:16.527895Z"
    },
    "papermill": {
     "duration": 0.050286,
     "end_time": "2021-07-04T19:23:57.111291",
     "exception": false,
     "start_time": "2021-07-04T19:23:57.061005",
     "status": "completed"
    },
    "tags": []
   },
   "outputs": [
    {
     "data": {
      "text/plain": [
       "((891, 9), (891,), (418, 9), (418,))"
      ]
     },
     "execution_count": 16,
     "metadata": {},
     "output_type": "execute_result"
    }
   ],
   "source": [
    "x_train=train_data.drop('Survived',axis=1)\n",
    "y_train=train_data['Survived']\n",
    "x_test=test\n",
    "y_test = pd.read_csv(\"/kaggle/input/titanic/gender_submission.csv\").Survived\n",
    "x_train.shape, y_train.shape, x_test.shape,y_test.shape"
   ]
  },
  {
   "cell_type": "markdown",
   "id": "internal-thinking",
   "metadata": {
    "execution": {
     "iopub.status.busy": "2021-07-04T10:08:04.27906Z",
     "iopub.status.idle": "2021-07-04T10:08:04.27942Z"
    },
    "papermill": {
     "duration": 0.027524,
     "end_time": "2021-07-04T19:23:57.168324",
     "exception": false,
     "start_time": "2021-07-04T19:23:57.140800",
     "status": "completed"
    },
    "tags": []
   },
   "source": [
    "MODEL BUILDING"
   ]
  },
  {
   "cell_type": "code",
   "execution_count": 17,
   "id": "distinguished-envelope",
   "metadata": {
    "execution": {
     "iopub.execute_input": "2021-07-04T19:23:57.231083Z",
     "iopub.status.busy": "2021-07-04T19:23:57.230233Z",
     "iopub.status.idle": "2021-07-04T19:23:57.503309Z",
     "shell.execute_reply": "2021-07-04T19:23:57.502646Z",
     "shell.execute_reply.started": "2021-07-04T19:23:16.542348Z"
    },
    "papermill": {
     "duration": 0.306452,
     "end_time": "2021-07-04T19:23:57.503457",
     "exception": false,
     "start_time": "2021-07-04T19:23:57.197005",
     "status": "completed"
    },
    "tags": []
   },
   "outputs": [
    {
     "name": "stderr",
     "output_type": "stream",
     "text": [
      "/opt/conda/lib/python3.7/site-packages/sklearn/linear_model/_logistic.py:765: ConvergenceWarning: lbfgs failed to converge (status=1):\n",
      "STOP: TOTAL NO. of ITERATIONS REACHED LIMIT.\n",
      "\n",
      "Increase the number of iterations (max_iter) or scale the data as shown in:\n",
      "    https://scikit-learn.org/stable/modules/preprocessing.html\n",
      "Please also refer to the documentation for alternative solver options:\n",
      "    https://scikit-learn.org/stable/modules/linear_model.html#logistic-regression\n",
      "  extra_warning_msg=_LOGISTIC_SOLVER_CONVERGENCE_MSG)\n"
     ]
    }
   ],
   "source": [
    "from sklearn.linear_model import LogisticRegression\n",
    "model = LogisticRegression(random_state = 0)\n",
    "x_train=train_data.drop('Survived',axis=1)\n",
    "y_train=train_data['Survived']\n",
    "\n",
    "model.fit(x_train, y_train)\n",
    "y_pred=model.predict(x_test)"
   ]
  },
  {
   "cell_type": "code",
   "execution_count": 18,
   "id": "incorrect-treasure",
   "metadata": {
    "execution": {
     "iopub.execute_input": "2021-07-04T19:23:57.567488Z",
     "iopub.status.busy": "2021-07-04T19:23:57.566241Z",
     "iopub.status.idle": "2021-07-04T19:23:57.575528Z",
     "shell.execute_reply": "2021-07-04T19:23:57.576111Z",
     "shell.execute_reply.started": "2021-07-04T19:23:16.598828Z"
    },
    "papermill": {
     "duration": 0.044153,
     "end_time": "2021-07-04T19:23:57.576281",
     "exception": false,
     "start_time": "2021-07-04T19:23:57.532128",
     "status": "completed"
    },
    "tags": []
   },
   "outputs": [
    {
     "name": "stdout",
     "output_type": "stream",
     "text": [
      "[[254  12]\n",
      " [ 12 140]]\n"
     ]
    },
    {
     "data": {
      "text/plain": [
       "0.9425837320574163"
      ]
     },
     "execution_count": 18,
     "metadata": {},
     "output_type": "execute_result"
    }
   ],
   "source": [
    "from sklearn.metrics import mean_absolute_error\n",
    "from sklearn.metrics import confusion_matrix\n",
    "\n",
    "cm = confusion_matrix(y_test, y_pred)\n",
    "print(cm)\n",
    "\n",
    "from sklearn.metrics import accuracy_score\n",
    "accuracy_score(y_test,y_pred)\n"
   ]
  },
  {
   "cell_type": "code",
   "execution_count": 19,
   "id": "intensive-recycling",
   "metadata": {
    "execution": {
     "iopub.execute_input": "2021-07-04T19:23:57.637238Z",
     "iopub.status.busy": "2021-07-04T19:23:57.636541Z",
     "iopub.status.idle": "2021-07-04T19:23:57.647527Z",
     "shell.execute_reply": "2021-07-04T19:23:57.648023Z",
     "shell.execute_reply.started": "2021-07-04T19:23:16.614034Z"
    },
    "papermill": {
     "duration": 0.042931,
     "end_time": "2021-07-04T19:23:57.648206",
     "exception": false,
     "start_time": "2021-07-04T19:23:57.605275",
     "status": "completed"
    },
    "tags": []
   },
   "outputs": [],
   "source": [
    "\n",
    "output = pd.DataFrame({'PassengerId': test_output.PassengerId, 'Survived': y_pred.astype('str')})\n",
    "output.to_csv(\"titanic_submission.csv\", index=False)"
   ]
  }
 ],
 "metadata": {
  "kernelspec": {
   "display_name": "Python 3",
   "language": "python",
   "name": "python3"
  },
  "language_info": {
   "codemirror_mode": {
    "name": "ipython",
    "version": 3
   },
   "file_extension": ".py",
   "mimetype": "text/x-python",
   "name": "python",
   "nbconvert_exporter": "python",
   "pygments_lexer": "ipython3",
   "version": "3.7.10"
  },
  "papermill": {
   "default_parameters": {},
   "duration": 13.926179,
   "end_time": "2021-07-04T19:23:58.914031",
   "environment_variables": {},
   "exception": null,
   "input_path": "__notebook__.ipynb",
   "output_path": "__notebook__.ipynb",
   "parameters": {},
   "start_time": "2021-07-04T19:23:44.987852",
   "version": "2.3.3"
  }
 },
 "nbformat": 4,
 "nbformat_minor": 5
}
